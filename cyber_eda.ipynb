{
 "cells": [
  {
   "cell_type": "code",
   "execution_count": 1,
   "metadata": {},
   "outputs": [],
   "source": [
    "#Importing required libraries\n",
    "import os\n",
    "import numpy as np\n",
    "import pandas as pd"
   ]
  },
  {
   "cell_type": "code",
   "execution_count": 12,
   "metadata": {},
   "outputs": [],
   "source": [
    "# importing the csv file\n",
    "df = pd.read_csv(r'C:\\Users\\diana\\Downloads\\Cybersecurity EDA\\cyberattacks.csv')"
   ]
  },
  {
   "cell_type": "code",
   "execution_count": 13,
   "metadata": {},
   "outputs": [
    {
     "name": "stdout",
     "output_type": "stream",
     "text": [
      "<class 'pandas.core.frame.DataFrame'>\n",
      "RangeIndex: 40000 entries, 0 to 39999\n",
      "Data columns (total 25 columns):\n",
      " #   Column                  Non-Null Count  Dtype  \n",
      "---  ------                  --------------  -----  \n",
      " 0   Timestamp               40000 non-null  object \n",
      " 1   Source IP Address       40000 non-null  object \n",
      " 2   Destination IP Address  40000 non-null  object \n",
      " 3   Source Port             40000 non-null  int64  \n",
      " 4   Destination Port        40000 non-null  int64  \n",
      " 5   Protocol                40000 non-null  object \n",
      " 6   Packet Length           40000 non-null  int64  \n",
      " 7   Packet Type             40000 non-null  object \n",
      " 8   Traffic Type            40000 non-null  object \n",
      " 9   Payload Data            40000 non-null  object \n",
      " 10  Malware Indicators      20000 non-null  object \n",
      " 11  Anomaly Scores          40000 non-null  float64\n",
      " 12  Alerts/Warnings         19933 non-null  object \n",
      " 13  Attack Type             40000 non-null  object \n",
      " 14  Attack Signature        40000 non-null  object \n",
      " 15  Action Taken            40000 non-null  object \n",
      " 16  Severity Level          40000 non-null  object \n",
      " 17  User Information        40000 non-null  object \n",
      " 18  Device Information      40000 non-null  object \n",
      " 19  Network Segment         40000 non-null  object \n",
      " 20  Geo-location Data       40000 non-null  object \n",
      " 21  Proxy Information       20149 non-null  object \n",
      " 22  Firewall Logs           20039 non-null  object \n",
      " 23  IDS/IPS Alerts          19950 non-null  object \n",
      " 24  Log Source              40000 non-null  object \n",
      "dtypes: float64(1), int64(3), object(21)\n",
      "memory usage: 7.6+ MB\n"
     ]
    }
   ],
   "source": [
    "# Checked the data information\n",
    "\n",
    "df.info()"
   ]
  },
  {
   "cell_type": "code",
   "execution_count": null,
   "metadata": {},
   "outputs": [],
   "source": [
    "df.head()"
   ]
  },
  {
   "cell_type": "code",
   "execution_count": null,
   "metadata": {},
   "outputs": [],
   "source": [
    "df.info() # Dataset Information"
   ]
  },
  {
   "cell_type": "code",
   "execution_count": null,
   "metadata": {},
   "outputs": [],
   "source": [
    "#Data Cleaning\n",
    "\n",
    "df.isnull().sum()  # Missing Values"
   ]
  },
  {
   "cell_type": "code",
   "execution_count": null,
   "metadata": {},
   "outputs": [],
   "source": [
    "df.dropna(inplace=True)  # Handling Missing Values"
   ]
  },
  {
   "cell_type": "code",
   "execution_count": null,
   "metadata": {},
   "outputs": [],
   "source": [
    "# Visualize the distribution of attack types\n",
    "\n",
    "attack_counts = df['Attack Type'].value_counts()\n",
    "\n",
    "plt.figure(figsize=(10, 5))\n",
    "sns.barplot(x=attack_counts.index , y=attack_counts)\n",
    "\n",
    "plt.xlabel('Attack Type',fontsize=14, fontweight='bold')\n",
    "plt.ylabel('Count',fontsize=14, fontweight='bold')\n",
    "plt.title('Distribution of Attack Types', fontsize=16)\n",
    "\n",
    "plt.xticks(rotation=45)\n",
    "plt.show()\n",
    "\n",
    "print(attack_counts)"
   ]
  },
  {
   "cell_type": "code",
   "execution_count": null,
   "metadata": {},
   "outputs": [],
   "source": [
    "# Data for the pie chart\n",
    "\n",
    "\n",
    "labels = ['UDP', 'ICMP', 'TCP']\n",
    "sizes = df['Protocol'].value_counts()  # Proportional sizes of each category\n",
    "colors = ['red', 'green', 'blue']  # Color for each category segment\n",
    "explode = (0.1, 0, 0)  # Explode a slice if needed (0 means no explosion)\n",
    "\n",
    "\n",
    "# Create a pie chart\n",
    "plt.pie(sizes, labels=labels, colors=colors, explode=explode, autopct='%1.1f%%', startangle=180)\n",
    "\n",
    "\n",
    "plt.axis('equal')  # Equal aspect ratio ensures that pie is drawn as a circle.\n",
    "plt.title('Distribution of Network Traffic Protocols')\n",
    "\n",
    "\n",
    "# Display the pie chart\n",
    "plt.show()"
   ]
  },
  {
   "cell_type": "code",
   "execution_count": null,
   "metadata": {},
   "outputs": [],
   "source": [
    "# Data for the pie chart\n",
    "\n",
    "labels =['DNS','FTP','HTTP']\n",
    "sizes = df['Traffic Type'].value_counts()\n",
    "colors = ['yellow', 'green', 'orange']\n",
    "explode = (0.1, 0, 0) \n",
    "\n",
    "# Create a pie chart\n",
    "plt.pie(sizes, labels=labels, colors=colors, explode=explode, autopct='%1.1f%%', startangle=90)\n",
    "\n",
    "plt.axis('equal')  \n",
    "plt.title('Distribution of Network Traffic Types')\n",
    "\n",
    "# Display the pie chart\n",
    "plt.show()"
   ]
  },
  {
   "cell_type": "code",
   "execution_count": null,
   "metadata": {},
   "outputs": [],
   "source": [
    "labels =['Blocked','Ignored','Logged']\n",
    "sizes =df['Action Taken'].value_counts()\n",
    "colors = ['Red', 'green', 'blue']\n",
    "explode = (0.1, 0, 0) \n",
    "\n",
    "\n",
    "# Create a pie chart\n",
    "plt.pie(sizes, labels=labels, colors=colors, explode=explode, autopct='%1.1f%%', startangle=190)\n",
    "\n",
    "plt.axis('equal')\n",
    "plt.title('Distribution of Actions Taken')\n",
    "\n",
    "# Display the pie chart\n",
    "plt.show()"
   ]
  },
  {
   "cell_type": "code",
   "execution_count": null,
   "metadata": {},
   "outputs": [],
   "source": [
    "# Data for the pie chart\n",
    "labels =['High','Medium','Low']\n",
    "sizes =df['Severity Level'].value_counts()\n",
    "colors = ['orange', 'blue','pink'] \n",
    "explode = (0, 0,0)\n",
    "\n",
    "# Create a pie chart\n",
    "plt.pie(sizes, labels=labels, colors=colors, explode=explode, autopct='%1.1f%%', startangle=90)\n",
    "\n",
    "plt.axis('equal') \n",
    "plt.title('Distribution of Severity Levels')\n",
    "\n",
    "# Display the pie chart\n",
    "plt.show()"
   ]
  },
  {
   "cell_type": "code",
   "execution_count": null,
   "metadata": {},
   "outputs": [],
   "source": [
    "labels =['Server','Firewall']\n",
    "sizes =df['Log Source'].value_counts()  \n",
    "colors = ['blue', 'orange']\n",
    "explode = (0, 0) \n",
    "\n",
    "plt.pie(sizes, labels=labels, colors=colors, explode=explode, autopct='%1.1f%%', startangle=270)\n",
    "\n",
    "plt.axis('equal')\n",
    "plt.title('Distribution of Log Sources')\n",
    "\n",
    "# Display the pie chart\n",
    "plt.show()"
   ]
  },
  {
   "cell_type": "code",
   "execution_count": null,
   "metadata": {},
   "outputs": [],
   "source": [
    "#list of columns \n",
    "columns_to_plot = ['Protocol','Attack Signature','Action Taken','Network Segment']\n",
    "\n",
    "#plot a bar chart for each column\n",
    "for col in columns_to_plot:\n",
    "    sns.catplot(data=df, x=col, hue='Attack Type', kind='count', height=8, aspect=1.5)\n",
    "    plt.title(f'Count of Attack Types for Each {col.capitalize()}')\n",
    "    plt.show\n",
    "\n",
    "\n",
    "# Reset the warning filter to default\n",
    "warnings.filterwarnings(\"default\")"
   ]
  },
  {
   "cell_type": "code",
   "execution_count": null,
   "metadata": {},
   "outputs": [],
   "source": [
    "#columns to plot\n",
    "columns = ['Anomaly Scores','Source Port','Packet Length']\n",
    "\n",
    "#plotting box plot for each columns\n",
    "for col in columns:\n",
    "    sns.boxplot(data=df, x=col, hue='Attack Type')\n",
    "    plt.title(f'Count of Attack Types for Each {col.capitalize()}')\n",
    "    plt.show()"
   ]
  }
 ],
 "metadata": {
  "kernelspec": {
   "display_name": "Python 3",
   "language": "python",
   "name": "python3"
  },
  "language_info": {
   "codemirror_mode": {
    "name": "ipython",
    "version": 3
   },
   "file_extension": ".py",
   "mimetype": "text/x-python",
   "name": "python",
   "nbconvert_exporter": "python",
   "pygments_lexer": "ipython3",
   "version": "3.11.3"
  }
 },
 "nbformat": 4,
 "nbformat_minor": 2
}
